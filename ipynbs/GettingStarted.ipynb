{
 "cells": [
  {
   "cell_type": "markdown",
   "metadata": {},
   "source": [
    "Deep learning is a great tool that helps us efficiently summarize inherent patterns from tons of input data. I'd like to introduce DeepLearning.scala by letting the framework learn the common difference from Arithmetic progression."
   ]
  },
  {
   "cell_type": "markdown",
   "metadata": {},
   "source": [
    "## Background\n",
    "\n",
    "\n",
    "**Input**:\n",
    " Arithmetic progression(AP) as:\n",
    "``` val input: INDArray = Array(Array(0, 1, 2), Array(3, 6, 9), Array(13, 15, 17)).toNDArray``` \n",
    "\n",
    "\n",
    "**Output**: \n",
    " Common Difference of the certain AP as: \n",
    "```val expectedOutput: INDArray = Array(Array(1), Array(3), Array(2)).toNDArray```\n",
    "\n",
    "So here we want DeepLearning.scala to learn the common difference from the AP, i.e. ```{1} from {0, 1, 2} ``` \n",
    "in which `2-1 = 1-0 = 1 `"
   ]
  },
  {
   "cell_type": "markdown",
   "metadata": {},
   "source": [
    "## Network Design"
   ]
  },
  {
   "cell_type": "markdown",
   "metadata": {},
   "source": [
    "### Step 1: Install DeepLearning.scala\n",
    "\n",
    "DeepLearning.scala is hosted on Maven Central repository.\n",
    "If you use [sbt](http://www.scala-sbt.org), please add the following settings in your `build.sbt`:\n",
    "\n",
    "```\n",
    "libraryDependencies += \"com.thoughtworks.deeplearning\" %% \"differentiableany\" % \"latest.release\"\n",
    "\n",
    "libraryDependencies += \"com.thoughtworks.deeplearning\" %% \"differentiablenothing\" % \"latest.release\"\n",
    "\n",
    "libraryDependencies += \"com.thoughtworks.deeplearning\" %% \"differentiableseq\" % \"latest.release\"\n",
    "\n",
    "libraryDependencies += \"com.thoughtworks.deeplearning\" %% \"differentiabledouble\" % \"latest.release\"\n",
    "\n",
    "libraryDependencies += \"com.thoughtworks.deeplearning\" %% \"differentiablefloat\" % \"latest.release\"\n",
    "\n",
    "libraryDependencies += \"com.thoughtworks.deeplearning\" %% \"differentiablehlist\" % \"latest.release\"\n",
    "\n",
    "libraryDependencies += \"com.thoughtworks.deeplearning\" %% \"differentiablecoproduct\" % \"latest.release\"\n",
    "\n",
    "libraryDependencies += \"com.thoughtworks.deeplearning\" %% \"differentiableindarray\" % \"latest.release\"\n",
    "\n",
    "addCompilerPlugin(\"com.thoughtworks.implicit-dependent-type\" %% \"implicit-dependent-type\" % \"latest.release\")\n",
    "\n",
    "addCompilerPlugin(\"org.scalamacros\" % \"paradise\" % \"2.1.0\" cross CrossVersion.full)\n",
    "\n",
    "fork := true\n",
    "```\n",
    "\n",
    "Note that this example does not run on Scala 2.12 because [nd4j](http://nd4j.org/) does not support Scala 2.12. Make sure there is not a setting like `scalaVersion := \"2.12.1\"` in your `build.sbt`."
   ]
  },
  {
   "cell_type": "markdown",
   "metadata": {},
   "source": [
    "For [jupyter-scala](https://github.com/alexarchambault/jupyter-scala) or [Ammonite-REPL](http://www.lihaoyi.com/Ammonite/#Ammonite-REPL), you can use magic imports, which will download DeepLearning.scala and its dependencies for you."
   ]
  },
  {
   "cell_type": "code",
   "execution_count": 1,
   "metadata": {
    "collapsed": false
   },
   "outputs": [
    {
     "name": "stdout",
     "output_type": "stream",
     "text": [
      "Downloading https://repo1.maven.org/maven2/com/thoughtworks/implicit-dependent-type/implicit-dependent-type_2.11/2.0.0/implicit-dependent-type_2.11-2.0.0.pom\n",
      "Downloading https://repo1.maven.org/maven2/com/thoughtworks/implicit-dependent-type/implicit-dependent-type_2.11/2.0.0/implicit-dependent-type_2.11-2.0.0.pom.sha1\n",
      "Downloaded https://repo1.maven.org/maven2/com/thoughtworks/implicit-dependent-type/implicit-dependent-type_2.11/2.0.0/implicit-dependent-type_2.11-2.0.0.pom\n",
      "Downloaded https://repo1.maven.org/maven2/com/thoughtworks/implicit-dependent-type/implicit-dependent-type_2.11/2.0.0/implicit-dependent-type_2.11-2.0.0.pom.sha1\n",
      "Downloading https://repo1.maven.org/maven2/com/thoughtworks/implicit-dependent-type/implicit-dependent-type_2.11/2.0.0/implicit-dependent-type_2.11-2.0.0.jar\n",
      "Downloading https://repo1.maven.org/maven2/com/thoughtworks/implicit-dependent-type/implicit-dependent-type_2.11/2.0.0/implicit-dependent-type_2.11-2.0.0.jar.sha1\n",
      "Downloaded https://repo1.maven.org/maven2/com/thoughtworks/implicit-dependent-type/implicit-dependent-type_2.11/2.0.0/implicit-dependent-type_2.11-2.0.0.jar\n",
      "Downloaded https://repo1.maven.org/maven2/com/thoughtworks/implicit-dependent-type/implicit-dependent-type_2.11/2.0.0/implicit-dependent-type_2.11-2.0.0.jar.sha1\n",
      "Downloading https://repo1.maven.org/maven2/com/thoughtworks/deeplearning/differentiableany_2.11/1.0.0-RC7/differentiableany_2.11-1.0.0-RC7.pom\n",
      "Downloading https://repo1.maven.org/maven2/com/thoughtworks/deeplearning/differentiableany_2.11/1.0.0-RC7/differentiableany_2.11-1.0.0-RC7.pom.sha1\n",
      "Downloaded https://repo1.maven.org/maven2/com/thoughtworks/deeplearning/differentiableany_2.11/1.0.0-RC7/differentiableany_2.11-1.0.0-RC7.pom\n",
      "Downloaded https://repo1.maven.org/maven2/com/thoughtworks/deeplearning/differentiableany_2.11/1.0.0-RC7/differentiableany_2.11-1.0.0-RC7.pom.sha1\n",
      "Downloading https://repo1.maven.org/maven2/com/thoughtworks/deeplearning/symbolic_2.11/1.0.0-RC7/symbolic_2.11-1.0.0-RC7.pom\n",
      "Downloading https://repo1.maven.org/maven2/com/thoughtworks/deeplearning/symbolic_2.11/1.0.0-RC7/symbolic_2.11-1.0.0-RC7.pom.sha1\n",
      "Downloaded https://repo1.maven.org/maven2/com/thoughtworks/deeplearning/symbolic_2.11/1.0.0-RC7/symbolic_2.11-1.0.0-RC7.pom.sha1\n",
      "Downloaded https://repo1.maven.org/maven2/com/thoughtworks/deeplearning/symbolic_2.11/1.0.0-RC7/symbolic_2.11-1.0.0-RC7.pom\n",
      "Downloading https://repo1.maven.org/maven2/com/thoughtworks/deeplearning/layer_2.11/1.0.0-RC7/layer_2.11-1.0.0-RC7.pom\n",
      "Downloading https://repo1.maven.org/maven2/com/thoughtworks/deeplearning/layer_2.11/1.0.0-RC7/layer_2.11-1.0.0-RC7.pom.sha1\n",
      "Downloaded https://repo1.maven.org/maven2/com/thoughtworks/deeplearning/layer_2.11/1.0.0-RC7/layer_2.11-1.0.0-RC7.pom.sha1\n",
      "Downloaded https://repo1.maven.org/maven2/com/thoughtworks/deeplearning/layer_2.11/1.0.0-RC7/layer_2.11-1.0.0-RC7.pom\n",
      "Downloading https://repo1.maven.org/maven2/com/thoughtworks/deeplearning/layer_2.11/1.0.0-RC7/layer_2.11-1.0.0-RC7.jar\n",
      "Downloading https://repo1.maven.org/maven2/com/thoughtworks/deeplearning/layer_2.11/1.0.0-RC7/layer_2.11-1.0.0-RC7.jar.sha1\n",
      "Downloading https://repo1.maven.org/maven2/com/thoughtworks/deeplearning/symbolic_2.11/1.0.0-RC7/symbolic_2.11-1.0.0-RC7.jar\n",
      "Downloading https://repo1.maven.org/maven2/com/thoughtworks/deeplearning/symbolic_2.11/1.0.0-RC7/symbolic_2.11-1.0.0-RC7.jar.sha1\n",
      "Downloading https://repo1.maven.org/maven2/com/thoughtworks/deeplearning/differentiableany_2.11/1.0.0-RC7/differentiableany_2.11-1.0.0-RC7.jar\n",
      "Downloading https://repo1.maven.org/maven2/com/thoughtworks/deeplearning/differentiableany_2.11/1.0.0-RC7/differentiableany_2.11-1.0.0-RC7.jar.sha1\n",
      "Downloaded https://repo1.maven.org/maven2/com/thoughtworks/deeplearning/layer_2.11/1.0.0-RC7/layer_2.11-1.0.0-RC7.jar.sha1\n",
      "Downloaded https://repo1.maven.org/maven2/com/thoughtworks/deeplearning/layer_2.11/1.0.0-RC7/layer_2.11-1.0.0-RC7.jar\n",
      "Downloaded https://repo1.maven.org/maven2/com/thoughtworks/deeplearning/differentiableany_2.11/1.0.0-RC7/differentiableany_2.11-1.0.0-RC7.jar.sha1\n",
      "Downloaded https://repo1.maven.org/maven2/com/thoughtworks/deeplearning/symbolic_2.11/1.0.0-RC7/symbolic_2.11-1.0.0-RC7.jar.sha1\n",
      "Downloaded https://repo1.maven.org/maven2/com/thoughtworks/deeplearning/differentiableany_2.11/1.0.0-RC7/differentiableany_2.11-1.0.0-RC7.jar\n",
      "Downloaded https://repo1.maven.org/maven2/com/thoughtworks/deeplearning/symbolic_2.11/1.0.0-RC7/symbolic_2.11-1.0.0-RC7.jar\n",
      "Downloading https://repo1.maven.org/maven2/com/thoughtworks/deeplearning/differentiablenothing_2.11/1.0.0-RC7/differentiablenothing_2.11-1.0.0-RC7.pom\n",
      "Downloading https://repo1.maven.org/maven2/com/thoughtworks/deeplearning/differentiablenothing_2.11/1.0.0-RC7/differentiablenothing_2.11-1.0.0-RC7.pom.sha1\n",
      "Downloaded https://repo1.maven.org/maven2/com/thoughtworks/deeplearning/differentiablenothing_2.11/1.0.0-RC7/differentiablenothing_2.11-1.0.0-RC7.pom\n",
      "Downloaded https://repo1.maven.org/maven2/com/thoughtworks/deeplearning/differentiablenothing_2.11/1.0.0-RC7/differentiablenothing_2.11-1.0.0-RC7.pom.sha1\n",
      "Downloading https://repo1.maven.org/maven2/com/thoughtworks/deeplearning/differentiablenothing_2.11/1.0.0-RC7/differentiablenothing_2.11-1.0.0-RC7.jar\n",
      "Downloading https://repo1.maven.org/maven2/com/thoughtworks/deeplearning/differentiablenothing_2.11/1.0.0-RC7/differentiablenothing_2.11-1.0.0-RC7.jar.sha1\n",
      "Downloaded https://repo1.maven.org/maven2/com/thoughtworks/deeplearning/differentiablenothing_2.11/1.0.0-RC7/differentiablenothing_2.11-1.0.0-RC7.jar\n",
      "Downloaded https://repo1.maven.org/maven2/com/thoughtworks/deeplearning/differentiablenothing_2.11/1.0.0-RC7/differentiablenothing_2.11-1.0.0-RC7.jar.sha1\n",
      "Downloading https://repo1.maven.org/maven2/com/thoughtworks/deeplearning/differentiableseq_2.11/1.0.0-RC7/differentiableseq_2.11-1.0.0-RC7.pom\n",
      "Downloading https://repo1.maven.org/maven2/com/thoughtworks/deeplearning/differentiableseq_2.11/1.0.0-RC7/differentiableseq_2.11-1.0.0-RC7.pom.sha1\n",
      "Downloaded https://repo1.maven.org/maven2/com/thoughtworks/deeplearning/differentiableseq_2.11/1.0.0-RC7/differentiableseq_2.11-1.0.0-RC7.pom.sha1\n",
      "Downloaded https://repo1.maven.org/maven2/com/thoughtworks/deeplearning/differentiableseq_2.11/1.0.0-RC7/differentiableseq_2.11-1.0.0-RC7.pom\n",
      "Downloading https://repo1.maven.org/maven2/com/thoughtworks/deeplearning/differentiableint_2.11/1.0.0-RC7/differentiableint_2.11-1.0.0-RC7.pom.sha1\n",
      "Downloading https://repo1.maven.org/maven2/com/thoughtworks/deeplearning/differentiableint_2.11/1.0.0-RC7/differentiableint_2.11-1.0.0-RC7.pom\n",
      "Downloaded https://repo1.maven.org/maven2/com/thoughtworks/deeplearning/differentiableint_2.11/1.0.0-RC7/differentiableint_2.11-1.0.0-RC7.pom\n",
      "Downloaded https://repo1.maven.org/maven2/com/thoughtworks/deeplearning/differentiableint_2.11/1.0.0-RC7/differentiableint_2.11-1.0.0-RC7.pom.sha1\n",
      "Downloading https://repo1.maven.org/maven2/com/thoughtworks/deeplearning/poly_2.11/1.0.0-RC7/poly_2.11-1.0.0-RC7.pom\n",
      "Downloading https://repo1.maven.org/maven2/com/thoughtworks/deeplearning/bufferedlayer_2.11/1.0.0-RC7/bufferedlayer_2.11-1.0.0-RC7.pom\n",
      "Downloading https://repo1.maven.org/maven2/com/thoughtworks/deeplearning/differentiabledouble_2.11/1.0.0-RC7/differentiabledouble_2.11-1.0.0-RC7.pom\n",
      "Downloading https://repo1.maven.org/maven2/com/thoughtworks/deeplearning/differentiabledouble_2.11/1.0.0-RC7/differentiabledouble_2.11-1.0.0-RC7.pom.sha1\n",
      "Downloading https://repo1.maven.org/maven2/com/thoughtworks/deeplearning/poly_2.11/1.0.0-RC7/poly_2.11-1.0.0-RC7.pom.sha1\n",
      "Downloading https://repo1.maven.org/maven2/com/thoughtworks/deeplearning/bufferedlayer_2.11/1.0.0-RC7/bufferedlayer_2.11-1.0.0-RC7.pom.sha1\n",
      "Downloaded https://repo1.maven.org/maven2/com/thoughtworks/deeplearning/differentiabledouble_2.11/1.0.0-RC7/differentiabledouble_2.11-1.0.0-RC7.pom\n",
      "Downloaded https://repo1.maven.org/maven2/com/thoughtworks/deeplearning/differentiabledouble_2.11/1.0.0-RC7/differentiabledouble_2.11-1.0.0-RC7.pom.sha1\n",
      "Downloaded https://repo1.maven.org/maven2/com/thoughtworks/deeplearning/poly_2.11/1.0.0-RC7/poly_2.11-1.0.0-RC7.pom.sha1\n",
      "Downloaded https://repo1.maven.org/maven2/com/thoughtworks/deeplearning/bufferedlayer_2.11/1.0.0-RC7/bufferedlayer_2.11-1.0.0-RC7.pom\n",
      "Downloading https://repo1.maven.org/maven2/com/thoughtworks/deeplearning/differentiableboolean_2.11/1.0.0-RC7/differentiableboolean_2.11-1.0.0-RC7.pom.sha1\n",
      "Downloading https://repo1.maven.org/maven2/com/thoughtworks/deeplearning/differentiableboolean_2.11/1.0.0-RC7/differentiableboolean_2.11-1.0.0-RC7.pom\n",
      "Downloaded https://repo1.maven.org/maven2/com/thoughtworks/deeplearning/poly_2.11/1.0.0-RC7/poly_2.11-1.0.0-RC7.pom\n",
      "Downloaded https://repo1.maven.org/maven2/com/thoughtworks/deeplearning/differentiableboolean_2.11/1.0.0-RC7/differentiableboolean_2.11-1.0.0-RC7.pom\n",
      "Downloaded https://repo1.maven.org/maven2/com/thoughtworks/deeplearning/differentiableboolean_2.11/1.0.0-RC7/differentiableboolean_2.11-1.0.0-RC7.pom.sha1\n",
      "Downloaded https://repo1.maven.org/maven2/com/thoughtworks/deeplearning/bufferedlayer_2.11/1.0.0-RC7/bufferedlayer_2.11-1.0.0-RC7.pom.sha1\n",
      "Downloading https://repo1.maven.org/maven2/com/thoughtworks/deeplearning/bufferedlayer_2.11/1.0.0-RC7/bufferedlayer_2.11-1.0.0-RC7.jar\n",
      "Downloading https://repo1.maven.org/maven2/com/thoughtworks/deeplearning/bufferedlayer_2.11/1.0.0-RC7/bufferedlayer_2.11-1.0.0-RC7.jar.sha1\n",
      "Downloading https://repo1.maven.org/maven2/com/thoughtworks/deeplearning/differentiableseq_2.11/1.0.0-RC7/differentiableseq_2.11-1.0.0-RC7.jar\n",
      "Downloading https://repo1.maven.org/maven2/com/thoughtworks/deeplearning/differentiableseq_2.11/1.0.0-RC7/differentiableseq_2.11-1.0.0-RC7.jar.sha1\n",
      "Downloading https://repo1.maven.org/maven2/com/thoughtworks/deeplearning/differentiableint_2.11/1.0.0-RC7/differentiableint_2.11-1.0.0-RC7.jar\n",
      "Downloading https://repo1.maven.org/maven2/com/thoughtworks/deeplearning/differentiableint_2.11/1.0.0-RC7/differentiableint_2.11-1.0.0-RC7.jar.sha1\n",
      "Downloaded https://repo1.maven.org/maven2/com/thoughtworks/deeplearning/differentiableseq_2.11/1.0.0-RC7/differentiableseq_2.11-1.0.0-RC7.jar.sha1\n",
      "Downloading https://repo1.maven.org/maven2/com/thoughtworks/deeplearning/differentiableboolean_2.11/1.0.0-RC7/differentiableboolean_2.11-1.0.0-RC7.jar\n",
      "Downloaded https://repo1.maven.org/maven2/com/thoughtworks/deeplearning/bufferedlayer_2.11/1.0.0-RC7/bufferedlayer_2.11-1.0.0-RC7.jar.sha1\n",
      "Downloading https://repo1.maven.org/maven2/com/thoughtworks/deeplearning/differentiableboolean_2.11/1.0.0-RC7/differentiableboolean_2.11-1.0.0-RC7.jar.sha1\n",
      "Downloaded https://repo1.maven.org/maven2/com/thoughtworks/deeplearning/bufferedlayer_2.11/1.0.0-RC7/bufferedlayer_2.11-1.0.0-RC7.jar\n",
      "Downloading https://repo1.maven.org/maven2/com/thoughtworks/deeplearning/differentiabledouble_2.11/1.0.0-RC7/differentiabledouble_2.11-1.0.0-RC7.jar\n",
      "Downloaded https://repo1.maven.org/maven2/com/thoughtworks/deeplearning/differentiableseq_2.11/1.0.0-RC7/differentiableseq_2.11-1.0.0-RC7.jar\n",
      "Downloading https://repo1.maven.org/maven2/com/thoughtworks/deeplearning/differentiabledouble_2.11/1.0.0-RC7/differentiabledouble_2.11-1.0.0-RC7.jar.sha1\n",
      "Downloaded https://repo1.maven.org/maven2/com/thoughtworks/deeplearning/differentiableboolean_2.11/1.0.0-RC7/differentiableboolean_2.11-1.0.0-RC7.jar.sha1\n",
      "Downloading https://repo1.maven.org/maven2/com/thoughtworks/deeplearning/poly_2.11/1.0.0-RC7/poly_2.11-1.0.0-RC7.jar\n",
      "Downloaded https://repo1.maven.org/maven2/com/thoughtworks/deeplearning/differentiableint_2.11/1.0.0-RC7/differentiableint_2.11-1.0.0-RC7.jar\n",
      "Downloading https://repo1.maven.org/maven2/com/thoughtworks/deeplearning/poly_2.11/1.0.0-RC7/poly_2.11-1.0.0-RC7.jar.sha1\n",
      "Downloaded https://repo1.maven.org/maven2/com/thoughtworks/deeplearning/differentiabledouble_2.11/1.0.0-RC7/differentiabledouble_2.11-1.0.0-RC7.jar.sha1\n",
      "Downloaded https://repo1.maven.org/maven2/com/thoughtworks/deeplearning/differentiableint_2.11/1.0.0-RC7/differentiableint_2.11-1.0.0-RC7.jar.sha1\n",
      "Downloaded https://repo1.maven.org/maven2/com/thoughtworks/deeplearning/poly_2.11/1.0.0-RC7/poly_2.11-1.0.0-RC7.jar.sha1\n",
      "Downloaded https://repo1.maven.org/maven2/com/thoughtworks/deeplearning/differentiableboolean_2.11/1.0.0-RC7/differentiableboolean_2.11-1.0.0-RC7.jar\n",
      "Downloaded https://repo1.maven.org/maven2/com/thoughtworks/deeplearning/differentiabledouble_2.11/1.0.0-RC7/differentiabledouble_2.11-1.0.0-RC7.jar\n",
      "Downloaded https://repo1.maven.org/maven2/com/thoughtworks/deeplearning/poly_2.11/1.0.0-RC7/poly_2.11-1.0.0-RC7.jar\n",
      "Downloading https://repo1.maven.org/maven2/com/thoughtworks/deeplearning/differentiablefloat_2.11/1.0.0-RC7/differentiablefloat_2.11-1.0.0-RC7.pom\n",
      "Downloading https://repo1.maven.org/maven2/com/thoughtworks/deeplearning/differentiablefloat_2.11/1.0.0-RC7/differentiablefloat_2.11-1.0.0-RC7.pom.sha1\n",
      "Downloaded https://repo1.maven.org/maven2/com/thoughtworks/deeplearning/differentiablefloat_2.11/1.0.0-RC7/differentiablefloat_2.11-1.0.0-RC7.pom.sha1\n",
      "Downloaded https://repo1.maven.org/maven2/com/thoughtworks/deeplearning/differentiablefloat_2.11/1.0.0-RC7/differentiablefloat_2.11-1.0.0-RC7.pom\n",
      "Downloading https://repo1.maven.org/maven2/com/thoughtworks/deeplearning/differentiablefloat_2.11/1.0.0-RC7/differentiablefloat_2.11-1.0.0-RC7.jar\n",
      "Downloading https://repo1.maven.org/maven2/com/thoughtworks/deeplearning/differentiablefloat_2.11/1.0.0-RC7/differentiablefloat_2.11-1.0.0-RC7.jar.sha1\n",
      "Downloaded https://repo1.maven.org/maven2/com/thoughtworks/deeplearning/differentiablefloat_2.11/1.0.0-RC7/differentiablefloat_2.11-1.0.0-RC7.jar.sha1\n",
      "Downloaded https://repo1.maven.org/maven2/com/thoughtworks/deeplearning/differentiablefloat_2.11/1.0.0-RC7/differentiablefloat_2.11-1.0.0-RC7.jar\n",
      "Downloading https://repo1.maven.org/maven2/com/thoughtworks/deeplearning/differentiablehlist_2.11/1.0.0-RC7/differentiablehlist_2.11-1.0.0-RC7.pom\n",
      "Downloading https://repo1.maven.org/maven2/com/thoughtworks/deeplearning/differentiablehlist_2.11/1.0.0-RC7/differentiablehlist_2.11-1.0.0-RC7.pom.sha1\n",
      "Downloaded https://repo1.maven.org/maven2/com/thoughtworks/deeplearning/differentiablehlist_2.11/1.0.0-RC7/differentiablehlist_2.11-1.0.0-RC7.pom\n",
      "Downloaded https://repo1.maven.org/maven2/com/thoughtworks/deeplearning/differentiablehlist_2.11/1.0.0-RC7/differentiablehlist_2.11-1.0.0-RC7.pom.sha1\n",
      "Downloading https://repo1.maven.org/maven2/com/thoughtworks/deeplearning/differentiablehlist_2.11/1.0.0-RC7/differentiablehlist_2.11-1.0.0-RC7.jar\n",
      "Downloading https://repo1.maven.org/maven2/com/thoughtworks/deeplearning/differentiablehlist_2.11/1.0.0-RC7/differentiablehlist_2.11-1.0.0-RC7.jar.sha1\n",
      "Downloaded https://repo1.maven.org/maven2/com/thoughtworks/deeplearning/differentiablehlist_2.11/1.0.0-RC7/differentiablehlist_2.11-1.0.0-RC7.jar\n",
      "Downloaded https://repo1.maven.org/maven2/com/thoughtworks/deeplearning/differentiablehlist_2.11/1.0.0-RC7/differentiablehlist_2.11-1.0.0-RC7.jar.sha1\n",
      "Downloading https://repo1.maven.org/maven2/com/thoughtworks/deeplearning/differentiablecoproduct_2.11/1.0.0-RC7/differentiablecoproduct_2.11-1.0.0-RC7.pom.sha1\n",
      "Downloading https://repo1.maven.org/maven2/com/thoughtworks/deeplearning/differentiablecoproduct_2.11/1.0.0-RC7/differentiablecoproduct_2.11-1.0.0-RC7.pom\n",
      "Downloaded https://repo1.maven.org/maven2/com/thoughtworks/deeplearning/differentiablecoproduct_2.11/1.0.0-RC7/differentiablecoproduct_2.11-1.0.0-RC7.pom\n",
      "Downloaded https://repo1.maven.org/maven2/com/thoughtworks/deeplearning/differentiablecoproduct_2.11/1.0.0-RC7/differentiablecoproduct_2.11-1.0.0-RC7.pom.sha1\n",
      "Downloading https://repo1.maven.org/maven2/com/thoughtworks/deeplearning/differentiablecoproduct_2.11/1.0.0-RC7/differentiablecoproduct_2.11-1.0.0-RC7.jar\n",
      "Downloading https://repo1.maven.org/maven2/com/thoughtworks/deeplearning/differentiablecoproduct_2.11/1.0.0-RC7/differentiablecoproduct_2.11-1.0.0-RC7.jar.sha1\n",
      "Downloaded https://repo1.maven.org/maven2/com/thoughtworks/deeplearning/differentiablecoproduct_2.11/1.0.0-RC7/differentiablecoproduct_2.11-1.0.0-RC7.jar.sha1\n",
      "Downloaded https://repo1.maven.org/maven2/com/thoughtworks/deeplearning/differentiablecoproduct_2.11/1.0.0-RC7/differentiablecoproduct_2.11-1.0.0-RC7.jar\n",
      "Downloading https://repo1.maven.org/maven2/com/thoughtworks/deeplearning/differentiableindarray_2.11/1.0.0-RC7/differentiableindarray_2.11-1.0.0-RC7.pom.sha1\n",
      "Downloading https://repo1.maven.org/maven2/com/thoughtworks/deeplearning/differentiableindarray_2.11/1.0.0-RC7/differentiableindarray_2.11-1.0.0-RC7.pom\n",
      "Downloaded https://repo1.maven.org/maven2/com/thoughtworks/deeplearning/differentiableindarray_2.11/1.0.0-RC7/differentiableindarray_2.11-1.0.0-RC7.pom\n",
      "Downloaded https://repo1.maven.org/maven2/com/thoughtworks/deeplearning/differentiableindarray_2.11/1.0.0-RC7/differentiableindarray_2.11-1.0.0-RC7.pom.sha1\n",
      "Downloading https://repo1.maven.org/maven2/com/thoughtworks/deeplearning/differentiableindarray_2.11/1.0.0-RC7/differentiableindarray_2.11-1.0.0-RC7.jar\n",
      "Downloading https://repo1.maven.org/maven2/com/thoughtworks/deeplearning/differentiableindarray_2.11/1.0.0-RC7/differentiableindarray_2.11-1.0.0-RC7.jar.sha1\n",
      "Downloaded https://repo1.maven.org/maven2/com/thoughtworks/deeplearning/differentiableindarray_2.11/1.0.0-RC7/differentiableindarray_2.11-1.0.0-RC7.jar.sha1\n",
      "Downloaded https://repo1.maven.org/maven2/com/thoughtworks/deeplearning/differentiableindarray_2.11/1.0.0-RC7/differentiableindarray_2.11-1.0.0-RC7.jar\n"
     ]
    },
    {
     "data": {
      "text/plain": [
       "\u001b[32mimport \u001b[39m\u001b[36m$plugin.$                                                                             \n",
       "\n",
       "\u001b[39m\n",
       "\u001b[32mimport \u001b[39m\u001b[36m$ivy.$                                                           \n",
       "\u001b[39m\n",
       "\u001b[32mimport \u001b[39m\u001b[36m$ivy.$                                                               \n",
       "\u001b[39m\n",
       "\u001b[32mimport \u001b[39m\u001b[36m$ivy.$                                                           \n",
       "\u001b[39m\n",
       "\u001b[32mimport \u001b[39m\u001b[36m$ivy.$                                                              \n",
       "\u001b[39m\n",
       "\u001b[32mimport \u001b[39m\u001b[36m$ivy.$                                                             \n",
       "\u001b[39m\n",
       "\u001b[32mimport \u001b[39m\u001b[36m$ivy.$                                                             \n",
       "\u001b[39m\n",
       "\u001b[32mimport \u001b[39m\u001b[36m$ivy.$                                                                 \n",
       "\u001b[39m\n",
       "\u001b[32mimport \u001b[39m\u001b[36m$ivy.$                                                                \n",
       "\n",
       "\u001b[39m\n",
       "\u001b[32mimport \u001b[39m\u001b[36m$ivy.$                                             \n",
       "\n",
       "\u001b[39m\n",
       "\u001b[32mimport \u001b[39m\u001b[36mcom.thoughtworks.deeplearning.DifferentiableHList._\n",
       "\u001b[39m\n",
       "\u001b[32mimport \u001b[39m\u001b[36mcom.thoughtworks.deeplearning.DifferentiableDouble._\n",
       "\u001b[39m\n",
       "\u001b[32mimport \u001b[39m\u001b[36mcom.thoughtworks.deeplearning.DifferentiableINDArray._\n",
       "\u001b[39m\n",
       "\u001b[32mimport \u001b[39m\u001b[36mcom.thoughtworks.deeplearning.DifferentiableAny._\n",
       "\u001b[39m\n",
       "\u001b[32mimport \u001b[39m\u001b[36mcom.thoughtworks.deeplearning.DifferentiableINDArray.Optimizers._\n",
       "\u001b[39m\n",
       "\u001b[32mimport \u001b[39m\u001b[36mcom.thoughtworks.deeplearning.Symbolic._\n",
       "\u001b[39m\n",
       "\u001b[32mimport \u001b[39m\u001b[36mcom.thoughtworks.deeplearning.{\n",
       "  DifferentiableHList,\n",
       "  DifferentiableINDArray,\n",
       "  Layer,\n",
       "  Symbolic\n",
       "}\n",
       "\u001b[39m\n",
       "\u001b[32mimport \u001b[39m\u001b[36mcom.thoughtworks.deeplearning.Poly.MathFunctions._\n",
       "\u001b[39m\n",
       "\u001b[32mimport \u001b[39m\u001b[36mcom.thoughtworks.deeplearning.Poly.MathOps\n",
       "\u001b[39m\n",
       "\u001b[32mimport \u001b[39m\u001b[36morg.nd4j.linalg.api.ndarray.INDArray\n",
       "\u001b[39m\n",
       "\u001b[32mimport \u001b[39m\u001b[36morg.nd4j.linalg.factory.Nd4j\n",
       "\u001b[39m\n",
       "\u001b[32mimport \u001b[39m\u001b[36morg.nd4s.Implicits._\n",
       "\u001b[39m\n",
       "\u001b[32mimport \u001b[39m\u001b[36mshapeless._\n",
       "\n",
       "\u001b[39m\n",
       "\u001b[32mimport \u001b[39m\u001b[36mplotly._\n",
       "\u001b[39m\n",
       "\u001b[32mimport \u001b[39m\u001b[36mplotly.element._\n",
       "\u001b[39m\n",
       "\u001b[32mimport \u001b[39m\u001b[36mplotly.layout._\n",
       "\u001b[39m\n",
       "\u001b[32mimport \u001b[39m\u001b[36mplotly.JupyterScala._\u001b[39m"
      ]
     },
     "execution_count": 1,
     "metadata": {},
     "output_type": "execute_result"
    }
   ],
   "source": [
    "import $plugin.$ivy.`com.thoughtworks.implicit-dependent-type::implicit-dependent-type:2.0.0`\n",
    "\n",
    "import $ivy.`com.thoughtworks.deeplearning::differentiableany:1.0.0-RC7`\n",
    "import $ivy.`com.thoughtworks.deeplearning::differentiablenothing:1.0.0-RC7`\n",
    "import $ivy.`com.thoughtworks.deeplearning::differentiableseq:1.0.0-RC7`\n",
    "import $ivy.`com.thoughtworks.deeplearning::differentiabledouble:1.0.0-RC7`\n",
    "import $ivy.`com.thoughtworks.deeplearning::differentiablefloat:1.0.0-RC7`\n",
    "import $ivy.`com.thoughtworks.deeplearning::differentiablehlist:1.0.0-RC7`\n",
    "import $ivy.`com.thoughtworks.deeplearning::differentiablecoproduct:1.0.0-RC7`\n",
    "import $ivy.`com.thoughtworks.deeplearning::differentiableindarray:1.0.0-RC7`\n",
    "\n",
    "import $ivy.`org.plotly-scala::plotly-jupyter-scala:0.3.0`\n",
    "\n",
    "import com.thoughtworks.deeplearning.DifferentiableHList._\n",
    "import com.thoughtworks.deeplearning.DifferentiableDouble._\n",
    "import com.thoughtworks.deeplearning.DifferentiableINDArray._\n",
    "import com.thoughtworks.deeplearning.DifferentiableAny._\n",
    "import com.thoughtworks.deeplearning.DifferentiableINDArray.Optimizers._\n",
    "import com.thoughtworks.deeplearning.Symbolic._\n",
    "import com.thoughtworks.deeplearning.{\n",
    "  DifferentiableHList,\n",
    "  DifferentiableINDArray,\n",
    "  Layer,\n",
    "  Symbolic\n",
    "}\n",
    "import com.thoughtworks.deeplearning.Poly.MathFunctions._\n",
    "import com.thoughtworks.deeplearning.Poly.MathOps\n",
    "import org.nd4j.linalg.api.ndarray.INDArray\n",
    "import org.nd4j.linalg.factory.Nd4j\n",
    "import org.nd4s.Implicits._\n",
    "import shapeless._\n",
    "\n",
    "import plotly._\n",
    "import plotly.element._\n",
    "import plotly.layout._\n",
    "import plotly.JupyterScala._"
   ]
  },
  {
   "cell_type": "markdown",
   "metadata": {},
   "source": [
    "See [Scaladex](https://index.scala-lang.org/thoughtworksinc/deeplearning.scala) for settings of other build tools!"
   ]
  },
  {
   "cell_type": "markdown",
   "metadata": {},
   "source": [
    "### Step 2: Design your own neural network\n",
    "\n",
    "DeepLearning.scala is also a language that we can use to create complex neural networks.\n",
    "\n",
    "In the following sections, you will learn:\n",
    " * how to define types for a neural network\n",
    " * how to use a neural network as a predictor\n",
    " * how to create a neural network\n",
    " * how to train a neural network"
   ]
  },
  {
   "cell_type": "markdown",
   "metadata": {},
   "source": [
    "Like a `scala.Function`, a neural network has its own input types and output types.\n",
    "\n",
    "For example, the type of the neural network that accepts an N-dimensional array and returns another N-dimensional array is `(INDArray <=> INDArray)@Symbolic`."
   ]
  },
  {
   "cell_type": "code",
   "execution_count": 2,
   "metadata": {
    "collapsed": false
   },
   "outputs": [
    {
     "ename": "",
     "evalue": "",
     "output_type": "error",
     "traceback": [
      "\u001b[31mscala.NotImplementedError: an implementation is missing\u001b[39m",
      "  scala.Predef$.$qmark$qmark$qmark(\u001b[32mPredef.scala\u001b[39m:\u001b[32m230\u001b[39m)",
      "  $sess.cmd1Wrapper$Helper.<init>(\u001b[32mcmd1.sc\u001b[39m:\u001b[32m1\u001b[39m)",
      "  $sess.cmd1Wrapper.<init>(\u001b[32mcmd1.sc\u001b[39m:\u001b[32m559\u001b[39m)",
      "  $sess.cmd1$.<init>(\u001b[32mcmd1.sc\u001b[39m:\u001b[32m544\u001b[39m)",
      "  $sess.cmd1$.<clinit>(\u001b[32mcmd1.sc\u001b[39m:\u001b[32m-1\u001b[39m)"
     ]
    }
   ],
   "source": [
    "val myNeuralNetwork = ???"
   ]
  },
  {
   "cell_type": "markdown",
   "metadata": {},
   "source": [
    "In `(A <=> B)@Symbolic`, A is the input type, and B is the output type. For the example above, both the input type and the output type are `INDArray`.\n",
    "\n",
    "\n",
    "`@Symbolic` is a syntactic sugar to create implicit dependent types. See [implicit-dependent-type](https://github.com/ThoughtWorksInc/implicit-dependent-type) for more information about `##`.\n",
    "\n",
    "The above code throws an `NotImplementedError` because we have not been implemtnted the neural network.\n",
    "In later sections of this article, you will replace `???` to a valid neural network."
   ]
  },
  {
   "cell_type": "markdown",
   "metadata": {},
   "source": [
    "#### 2.2 Use a neural network as a predictor\n",
    "\n",
    "Like a normal `scala.Function`, if you pass the input data to the neural network, it will return some results.\n",
    "You can use the `predict` method to invoke a neural network."
   ]
  },
  {
   "cell_type": "code",
   "execution_count": 2,
   "metadata": {
    "collapsed": false
   },
   "outputs": [
    {
     "name": "stderr",
     "output_type": "stream",
     "text": [
      "cmd2.sc:2: not found: value myNeuralNetwork\n",
      "val predictionResult: INDArray = myNeuralNetwork.predict(input)\n",
      "                                 ^"
     ]
    },
    {
     "ename": "",
     "evalue": "",
     "output_type": "error",
     "traceback": [
      "Compilation Failed"
     ]
    }
   ],
   "source": [
    "val input: INDArray = Array(Array(0, 1, 2), Array(3, 6, 9), Array(13, 15, 17)).toNDArray\n",
    "val predictionResult: INDArray = myNeuralNetwork.predict(input)"
   ]
  },
  {
   "cell_type": "markdown",
   "metadata": {},
   "source": [
    "The above code throws an `NotImplementedError` because `myNeuralNetwork` has not been implemented.\n",
    "We will fix the problem by creating a valid neural network."
   ]
  },
  {
   "cell_type": "markdown",
   "metadata": {},
   "source": [
    "#### 2.3 Create a neural network\n",
    "\n",
    "Same as the definition of a normal Scala function, the definition of neural network consists of a type definition for its parameter, a type definition for its return value, and a body that contains mathematical formulas, function-calls, and control flows."
   ]
  },
  {
   "cell_type": "markdown",
   "metadata": {},
   "source": [
    "##### 2.3.1  Weight Intialization \n",
    "\n",
    "A neural network is trainable.\n",
    "It means that some variables in the neural network can be changed automatically according to some goals. Those variables are called `weight`.\n",
    "You can create weight variables via `toWeight` method, given its initial value.\n",
    "\n",
    "In order to create a weight, you must create an `Optimizer`, which contains the rule that manages how the weight changes. See [Scaladoc](https://javadoc.io/page/com.thoughtworks.deeplearning/unidoc_2.11/latest/com/thoughtworks/deeplearning/DifferentiableINDArray$$Optimizers$.html) for a list of built-in optimizers."
   ]
  },
  {
   "cell_type": "code",
   "execution_count": 3,
   "metadata": {
    "collapsed": false
   },
   "outputs": [
    {
     "data": {
      "text/plain": [
       "defined \u001b[32mfunction\u001b[39m \u001b[36moptimizer\u001b[39m"
      ]
     },
     "execution_count": 3,
     "metadata": {},
     "output_type": "execute_result"
    }
   ],
   "source": [
    "implicit def optimizer: Optimizer = new LearningRate {\n",
    "  def currentLearningRate() = 0.001\n",
    "}"
   ]
  },
  {
   "cell_type": "code",
   "execution_count": 4,
   "metadata": {
    "collapsed": false
   },
   "outputs": [
    {
     "data": {
      "text/plain": [
       "defined \u001b[32mfunction\u001b[39m \u001b[36mcreateMyNeuralNetwork\u001b[39m"
      ]
     },
     "execution_count": 4,
     "metadata": {},
     "output_type": "execute_result"
    }
   ],
   "source": [
    "def createMyNeuralNetwork(implicit input: INDArray @Symbolic): INDArray @Symbolic = {\n",
    "  val initialValueOfWeight = Nd4j.randn(3, 1)\n",
    "  val weight: INDArray @Symbolic = initialValueOfWeight.toWeight\n",
    "  input dot weight\n",
    "}"
   ]
  },
  {
   "cell_type": "markdown",
   "metadata": {},
   "source": [
    "##### 2.3.2 `From` and `To` placeholders\n",
    "\n",
    "When you create a neural network, you have not actually evaluated it yet.\n",
    "In fact, you only build its structure.\n",
    "Variables in the neural network are placeholders,\n",
    "which will be replaced with actual values in the future training or prediction process.\n",
    "\n",
    "`From` is the placeholder type for input parameter,\n",
    "and `To` is the placeholder type for return values and other local variables.\n",
    "\n",
    "`From` must be `implicit` so that it is automatically generated when you create the neural network. Otherwise, you have to manually pass the `From` placeholder to `createMyNeuralNetwork`."
   ]
  },
  {
   "cell_type": "code",
   "execution_count": 5,
   "metadata": {
    "collapsed": false
   },
   "outputs": [
    {
     "name": "stderr",
     "output_type": "stream",
     "text": [
      "SLF4J: Failed to load class \"org.slf4j.impl.StaticLoggerBinder\".\n",
      "SLF4J: Defaulting to no-operation (NOP) logger implementation\n",
      "SLF4J: See http://www.slf4j.org/codes.html#StaticLoggerBinder for further details.\n"
     ]
    },
    {
     "data": {
      "text/plain": [
       "\u001b[36mmyNeuralNetwork\u001b[39m: (\u001b[32mSymbolic\u001b[39m.\u001b[32mTo\u001b[39m[\u001b[32mINDArray\u001b[39m]{type OutputData = org.nd4j.linalg.api.ndarray.INDArray;type OutputDelta = org.nd4j.linalg.api.ndarray.INDArray;type InputData = org.nd4j.linalg.api.ndarray.INDArray;type InputDelta = org.nd4j.linalg.api.ndarray.INDArray})#\u001b[32m@\u001b[39m = Dot(Identity(),Weight([-0.88, -0.87, -0.37]))"
      ]
     },
     "execution_count": 5,
     "metadata": {},
     "output_type": "execute_result"
    }
   ],
   "source": [
    "val myNeuralNetwork = createMyNeuralNetwork"
   ]
  },
  {
   "cell_type": "markdown",
   "metadata": {},
   "source": [
    "### Step 3: Train your Neuro Network\n",
    "\n",
    "You have learned that weight will be automatically changed due to some goals.\n",
    "\n",
    "In DeepLearning.scala, when we train a neural network, our goal should always be minimizing the absolute of the return value.\n",
    "\n",
    "For example, if someone repeatedly call `myNeuralNetwork.train(Array(Array(0, 1, 2), Array(3, 6, 9), Array(13, 15, 17)).toNDArray)`,\n",
    "the neural network would try to minimize `input dot weight`.\n",
    "Soon `weight` would become an array of zeros in order to make `input dot weight` zeros,\n",
    "and `myNeuralNetwork.predict(Array(Array(0, 1, 2), Array(3, 6, 9), Array(13, 15, 17)).toNDArray)` would return `Array(Array(0), Array(0), Array(0)).toNDArray`.\n",
    "\n",
    "What if you expect `myNeuralNetwork.predict(Array(Array(0, 1, 2), Array(3, 6, 9), Array(13, 15, 17)).toNDArray)` to return `Array(Array(1), Array(3), Array(2)).toNDArray`?\n",
    "\n",
    "You can create another neural network that evaluates how far between the result of `myNeuralNetwork` and your expectation. The new neural network is usually called **loss function**."
   ]
  },
  {
   "cell_type": "code",
   "execution_count": 6,
   "metadata": {
    "collapsed": false,
    "slideshow": {
     "slide_type": "slide"
    }
   },
   "outputs": [
    {
     "data": {
      "text/plain": [
       "defined \u001b[32mfunction\u001b[39m \u001b[36mlossFunction\u001b[39m"
      ]
     },
     "execution_count": 6,
     "metadata": {},
     "output_type": "execute_result"
    }
   ],
   "source": [
    "def lossFunction(implicit pair: (INDArray :: INDArray :: HNil) @Symbolic): Double @Symbolic = {\n",
    "  val input = pair.head\n",
    "  val expectedOutput = pair.tail.head\n",
    "  abs(myNeuralNetwork.compose(input) - expectedOutput).sum\n",
    "}"
   ]
  },
  {
   "cell_type": "markdown",
   "metadata": {},
   "source": [
    "When the `lossFunction` get trained continuously, its return value will be close to zero, and the result of  `myNeuralNetwork` must be close to the expected result at the same time.\n",
    "\n",
    "Note the `lossFunction` accepts a placehold of `INDArray :: INDArray :: HNil` as its parameter, which is  a [shapeless](https://github.com/milessabin/shapeless)'s `HList` type.\n",
    "The `HList` consists of two N-dimensional arrays.\n",
    "The first array is the input data used to train the neural network, and the second array is the expected output."
   ]
  },
  {
   "cell_type": "code",
   "execution_count": 7,
   "metadata": {
    "collapsed": false
   },
   "outputs": [
    {
     "data": {
      "text/plain": [
       "\u001b[36minput\u001b[39m: \u001b[32mINDArray\u001b[39m = [[0.00, 1.00, 2.00],\n",
       " [3.00, 6.00, 9.00],\n",
       " [13.00, 15.00, 17.00]]\n",
       "\u001b[36mexpectedOutput\u001b[39m: \u001b[32mINDArray\u001b[39m = [1.00, 3.00, 2.00]"
      ]
     },
     "execution_count": 7,
     "metadata": {},
     "output_type": "execute_result"
    }
   ],
   "source": [
    "val input: INDArray = Array(Array(0, 1, 2), Array(3, 6, 9), Array(13, 15, 17)).toNDArray\n",
    "val expectedOutput: INDArray = Array(Array(1), Array(3), Array(2)).toNDArray"
   ]
  },
  {
   "cell_type": "code",
   "execution_count": 8,
   "metadata": {
    "collapsed": false
   },
   "outputs": [
    {
     "data": {
      "text/html": [
       "\n",
       "      <script type=\"text/javascript\">\n",
       "        require.config({\n",
       "  paths: {\n",
       "    d3: 'https://cdnjs.cloudflare.com/ajax/libs/d3/3.5.17/d3.min',\n",
       "    plotly: 'https://cdn.plot.ly/plotly-1.12.0.min'\n",
       "  },\n",
       "\n",
       "  shim: {\n",
       "    plotly: {\n",
       "      deps: ['d3', 'jquery'],\n",
       "      exports: 'plotly'\n",
       "    }\n",
       "  }\n",
       "});\n",
       "        \n",
       "\n",
       "        require(['plotly'], function(Plotly) {\n",
       "          window.Plotly = Plotly;\n",
       "        });\n",
       "      </script>\n",
       "    "
      ]
     },
     "metadata": {},
     "output_type": "display_data"
    },
    {
     "data": {
      "text/html": [
       "<div class=\"chart\" id=\"plot-1812275132\"></div>"
      ]
     },
     "metadata": {},
     "output_type": "display_data"
    },
    {
     "data": {
      "application/javascript": [
       "requirejs([\"plotly\"], function(Plotly) {\n",
       "  (function () {\n",
       "  var data0 = {\"type\":\"scatter\",\"x\":[0.0,1.0,2.0,3.0,4.0,5.0,6.0,7.0,8.0,9.0,10.0,11.0,12.0,13.0,14.0,15.0,16.0,17.0,18.0,19.0,20.0,21.0,22.0,23.0,24.0,25.0,26.0,27.0,28.0,29.0,30.0,31.0,32.0,33.0,34.0,35.0,36.0,37.0,38.0,39.0,40.0,41.0,42.0,43.0,44.0,45.0,46.0,47.0,48.0,49.0],\"y\":[49.55592346191406,48.03192138671875,46.5079231262207,44.983924865722656,43.459922790527344,41.9359245300293,40.411922454833984,38.88792419433594,37.363922119140625,35.83992385864258,34.31592559814453,32.79192352294922,31.267925262451172,29.74392318725586,28.219924926757812,26.6959228515625,25.171924591064453,23.647926330566406,22.123924255371094,20.599924087524414,19.075923919677734,17.551925659179688,16.027925491333008,14.503926277160645,12.979926109313965,11.455924987792969,9.931924819946289,8.40792465209961,6.8839240074157715,5.359923839569092,3.8359246253967285,2.3119239807128906,0.7879230976104736,0.7962983250617981,0.6319234371185303,0.9322977662086487,0.47592347860336304,1.0682995319366455,0.3199220895767212,1.2042994499206543,0.28918755054473877,0.6679219007492065,0.8763009905815125,0.5119217038154602,1.0123001337051392,0.35592228174209595,1.1680785417556763,0.35592228174209595,1.1680785417556763,0.35592228174209595]};\n",
       "\n",
       "  var data = [data0];\n",
       "  var layout = {\"title\":\"loss by time\"};\n",
       "\n",
       "  Plotly.plot('plot-1812275132', data, layout);\n",
       "})();\n",
       "});\n",
       "      "
      ]
     },
     "metadata": {},
     "output_type": "display_data"
    },
    {
     "data": {
      "text/plain": [
       "\u001b[36mlossSeq\u001b[39m: \u001b[32mcollection\u001b[39m.\u001b[32mimmutable\u001b[39m.\u001b[32mIndexedSeq\u001b[39m[\u001b[32mSymbolic\u001b[39m.\u001b[32mTo\u001b[39m.\u001b[32m<refinement>\u001b[39m.this.type.\u001b[32mOutputData\u001b[39m] = \u001b[33mVector\u001b[39m(\n",
       "  \u001b[32m49.55592346191406\u001b[39m,\n",
       "  \u001b[32m48.03192138671875\u001b[39m,\n",
       "  \u001b[32m46.5079231262207\u001b[39m,\n",
       "  \u001b[32m44.983924865722656\u001b[39m,\n",
       "  \u001b[32m43.459922790527344\u001b[39m,\n",
       "  \u001b[32m41.9359245300293\u001b[39m,\n",
       "  \u001b[32m40.411922454833984\u001b[39m,\n",
       "  \u001b[32m38.88792419433594\u001b[39m,\n",
       "  \u001b[32m37.363922119140625\u001b[39m,\n",
       "  \u001b[32m35.83992385864258\u001b[39m,\n",
       "  \u001b[32m34.31592559814453\u001b[39m,\n",
       "\u001b[33m...\u001b[39m\n",
       "\u001b[36mplot\u001b[39m: \u001b[32mSeq\u001b[39m[\u001b[32mScatter\u001b[39m] = \u001b[33mList\u001b[39m(\n",
       "  \u001b[33mScatter\u001b[39m(\n",
       "    \u001b[33mSome\u001b[39m(\n",
       "      \u001b[33mDoubles\u001b[39m(\n",
       "        \u001b[33mVector\u001b[39m(\n",
       "          \u001b[32m0.0\u001b[39m,\n",
       "          \u001b[32m1.0\u001b[39m,\n",
       "          \u001b[32m2.0\u001b[39m,\n",
       "          \u001b[32m3.0\u001b[39m,\n",
       "          \u001b[32m4.0\u001b[39m,\n",
       "          \u001b[32m5.0\u001b[39m,\n",
       "          \u001b[32m6.0\u001b[39m,\n",
       "\u001b[33m...\u001b[39m\n",
       "\u001b[36mres7_3\u001b[39m: \u001b[32mString\u001b[39m = \u001b[32m\"plot-1812275132\"\u001b[39m"
      ]
     },
     "execution_count": 8,
     "metadata": {},
     "output_type": "execute_result"
    }
   ],
   "source": [
    "val lossSeq = for (_ <- 0 until 50) yield\n",
    "  lossFunction.train(input :: expectedOutput :: HNil)\n",
    "plotly.JupyterScala.init()\n",
    "val plot = Seq(\n",
    "  Scatter(\n",
    "   0 until 50 by 1,\n",
    "   lossSeq\n",
    "  )\n",
    ")\n",
    "plot.plot(\n",
    "  title = \"loss by time\"\n",
    ")"
   ]
  },
  {
   "cell_type": "code",
   "execution_count": 9,
   "metadata": {
    "collapsed": false
   },
   "outputs": [
    {
     "name": "stdout",
     "output_type": "stream",
     "text": [
      "loss: 1.1680785417556763\n"
     ]
    }
   ],
   "source": [
    "// The loss should close to zero\n",
    "println(s\"loss: ${ lossFunction.predict(input :: expectedOutput :: HNil) }\")"
   ]
  },
  {
   "cell_type": "code",
   "execution_count": 10,
   "metadata": {
    "collapsed": false
   },
   "outputs": [
    {
     "name": "stdout",
     "output_type": "stream",
     "text": [
      "result: [1.01, 3.24, 2.92]\n"
     ]
    }
   ],
   "source": [
    "// The prediction result should close to Array(Array(1), Array(0)).toNDArray\n",
    "println(s\"result: ${ myNeuralNetwork.predict(input) }\")"
   ]
  },
  {
   "cell_type": "markdown",
   "metadata": {
    "collapsed": true
   },
   "source": [
    "## Summary\n",
    "\n",
    "In this article, you have learned:\n",
    "* to create neural networks dealing with complex data structures like `Double`, `INDArray` and `HList` like ordinary programming language\n",
    "* to compose a neural network into a larger neural network\n",
    "* to train a neural network\n",
    "* to use a neural network as a predictor"
   ]
  }
 ],
 "metadata": {
  "kernelspec": {
   "display_name": "Scala",
   "language": "scala",
   "name": "scala"
  },
  "language_info": {
   "codemirror_mode": "text/x-scala",
   "file_extension": ".scala",
   "mimetype": "text/x-scala",
   "name": "scala211",
   "nbconvert_exporter": "scala",
   "pygments_lexer": "scala",
   "version": "2.11.8"
  }
 },
 "nbformat": 4,
 "nbformat_minor": 0
}
